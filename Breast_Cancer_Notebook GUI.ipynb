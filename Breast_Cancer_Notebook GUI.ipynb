{
  "cells": [
    {
      "cell_type": "code",
      "execution_count": 64,
      "metadata": {
        "colab": {
          "base_uri": "https://localhost:8080/",
          "height": 259
        },
        "id": "6V83-SKZFhXG",
        "outputId": "c01fa5b4-5750-4093-bbdd-37d20df8c482"
      },
      "outputs": [
        {
          "output_type": "stream",
          "name": "stdout",
          "text": [
            "Looking in indexes: https://pypi.org/simple, https://us-python.pkg.dev/colab-wheels/public/simple/\n",
            "Requirement already satisfied: anvil-uplink in /usr/local/lib/python3.10/dist-packages (0.4.2)\n",
            "Collecting argparse (from anvil-uplink)\n",
            "  Using cached argparse-1.4.0-py2.py3-none-any.whl (23 kB)\n",
            "Requirement already satisfied: future in /usr/local/lib/python3.10/dist-packages (from anvil-uplink) (0.18.3)\n",
            "Requirement already satisfied: six in /usr/local/lib/python3.10/dist-packages (from anvil-uplink) (1.16.0)\n",
            "Requirement already satisfied: ws4py in /usr/local/lib/python3.10/dist-packages (from anvil-uplink) (0.5.1)\n",
            "Installing collected packages: argparse\n",
            "Successfully installed argparse-1.4.0\n"
          ]
        },
        {
          "output_type": "display_data",
          "data": {
            "application/vnd.colab-display-data+json": {
              "pip_warning": {
                "packages": [
                  "argparse"
                ]
              }
            }
          },
          "metadata": {}
        }
      ],
      "source": [
        "!pip install anvil-uplink\n",
        "import anvil.server\n",
        "import pandas as pd\n",
        "import numpy as np\n",
        "import seaborn as sb\n",
        "import matplotlib\n",
        "matplotlib.use('Agg')\n",
        "import matplotlib.pyplot as plt\n",
        "import sklearn\n",
        "import tkinter as tk\n",
        "from tkinter import *\n",
        "from sklearn import preprocessing\n",
        "from sklearn.preprocessing import StandardScaler\n",
        "from sklearn.linear_model import LogisticRegression\n",
        "from sklearn.model_selection import train_test_split\n",
        "from sklearn.tree import DecisionTreeClassifier\n",
        "from sklearn.ensemble import RandomForestClassifier\n",
        "from sklearn.neighbors import KNeighborsClassifier"
      ]
    },
    {
      "cell_type": "code",
      "execution_count": 65,
      "metadata": {
        "id": "OGrSj-W-FhXH"
      },
      "outputs": [],
      "source": [
        "anvil.server.connect(\"server_47RUPJCR5SON7G2F7Z5IUS7M-7WH46FFMS4NJ5BTX\")"
      ]
    },
    {
      "cell_type": "code",
      "source": [
        "from sklearn.metrics import classification_report\n",
        "from sklearn.metrics import confusion_matrix\n",
        "from sklearn.metrics import accuracy_score\n",
        "@anvil.server.callable\n",
        "\n",
        "def logisticReg():\n",
        "  df = pd.read_csv('breast-cancer.csv')\n",
        "  df[df.duplicated()]\n",
        "  encoder=preprocessing.LabelEncoder()\n",
        "  df['diagnosis'] = encoder.fit_transform(df['diagnosis'])\n",
        "  df.drop(['id','fractal_dimension_mean','texture_se','symmetry_se','perimeter_se','area_se','area_mean','radius_mean'],axis=1,inplace=True)\n",
        "  X = df.iloc[:,1:]\n",
        "  Y = df.iloc[:,0]\n",
        "  col=X.columns\n",
        "  object = StandardScaler()\n",
        "  X = object.fit_transform(X)\n",
        "  X=pd.DataFrame(X,columns=col)\n",
        "  x_train, x_test, y_train, y_test = train_test_split(X, Y, test_size=0.3, random_state=42) \n",
        "  model = LogisticRegression(random_state=42)\n",
        "  model = model.fit(x_train, y_train)\n",
        "  model.score(x_train, y_train)\n",
        "  y_pred = model.predict(x_test)\n",
        "  model.score(x_test, y_test)\n",
        "  score = accuracy_score( y_test, y_pred)\n",
        "  return score"
      ],
      "metadata": {
        "id": "GoRBX9n3J01B"
      },
      "execution_count": 66,
      "outputs": []
    },
    {
      "cell_type": "code",
      "execution_count": 67,
      "metadata": {
        "colab": {
          "base_uri": "https://localhost:8080/"
        },
        "id": "TUqm0jbJFhXI",
        "outputId": "0125a5d7-1220-44bd-ef13-720359c48990"
      },
      "outputs": [
        {
          "output_type": "stream",
          "name": "stdout",
          "text": [
            "0.9824561403508771\n"
          ]
        }
      ],
      "source": [
        "print(logisticReg())"
      ]
    },
    {
      "cell_type": "code",
      "source": [
        "from sklearn.metrics import classification_report\n",
        "from sklearn.metrics import confusion_matrix\n",
        "from sklearn.metrics import accuracy_score\n",
        "from sklearn.tree import DecisionTreeClassifier\n",
        "\n",
        "@anvil.server.callable\n",
        "def Decsisiontree():\n",
        "  df = pd.read_csv('breast-cancer.csv')\n",
        "  df[df.duplicated()]\n",
        "  encoder=preprocessing.LabelEncoder()\n",
        "  df['diagnosis'] = encoder.fit_transform(df['diagnosis'])\n",
        "  df.drop(['id','fractal_dimension_mean','texture_se','symmetry_se','perimeter_se','area_se','area_mean','radius_mean'],axis=1,inplace=True)\n",
        "  X = df.iloc[:,1:]\n",
        "  Y = df.iloc[:,0]\n",
        "  col=X.columns\n",
        "  object = StandardScaler()\n",
        "  X = object.fit_transform(X)\n",
        "  X=pd.DataFrame(X,columns=col)\n",
        "  x_train, x_test, y_train, y_test = train_test_split(X, Y, test_size=0.3, random_state=42)\n",
        "  model = DecisionTreeClassifier(random_state=42)\n",
        "  model = model.fit(x_train, y_train)\n",
        "  model.score(x_train, y_train)\n",
        "  y_pred = model.predict(x_test)\n",
        "  model.score(x_test, y_test)\n",
        "  score = accuracy_score( y_test, y_pred)\n",
        "  return score"
      ],
      "metadata": {
        "id": "zluHupxErQLG"
      },
      "execution_count": 68,
      "outputs": []
    },
    {
      "cell_type": "code",
      "source": [
        "#print(Decsisiontree())"
      ],
      "metadata": {
        "id": "4-0ggvEHP8Cn"
      },
      "execution_count": 69,
      "outputs": []
    },
    {
      "cell_type": "code",
      "source": [
        "from sklearn.metrics import classification_report\n",
        "from sklearn.metrics import confusion_matrix\n",
        "from sklearn.metrics import accuracy_score\n",
        "@anvil.server.callable\n",
        "def RandomForest():\n",
        "  df = pd.read_csv('breast-cancer.csv')\n",
        "  df[df.duplicated()]\n",
        "  encoder=preprocessing.LabelEncoder()\n",
        "  df['diagnosis'] = encoder.fit_transform(df['diagnosis'])\n",
        "  df.drop(['id','fractal_dimension_mean','texture_se','symmetry_se','perimeter_se','area_se','area_mean','radius_mean'],axis=1,inplace=True)\n",
        "  X = df.iloc[:,1:]\n",
        "  Y = df.iloc[:,0]\n",
        "  col=X.columns\n",
        "  object = StandardScaler()\n",
        "  X = object.fit_transform(X)\n",
        "  X=pd.DataFrame(X,columns=col)\n",
        "  x_train, x_test, y_train, y_test = train_test_split(X, Y, test_size=0.3, random_state=42) \n",
        "  model = RandomForestClassifier(random_state=42)\n",
        "  model = model.fit(x_train, y_train)\n",
        "  model.score(x_train, y_train)\n",
        "  y_pred = model.predict(x_test)\n",
        "  model.score(x_test, y_test)\n",
        "  score = accuracy_score( y_test, y_pred)\n",
        "  return score"
      ],
      "metadata": {
        "id": "-cSiGMcZreB4"
      },
      "execution_count": 70,
      "outputs": []
    },
    {
      "cell_type": "code",
      "source": [
        "from sklearn.metrics import classification_report\n",
        "from sklearn.metrics import confusion_matrix\n",
        "from sklearn.metrics import accuracy_score\n",
        "@anvil.server.callable\n",
        "def KNN():\n",
        "  df = pd.read_csv('breast-cancer.csv')\n",
        "  df[df.duplicated()]\n",
        "  encoder=preprocessing.LabelEncoder()\n",
        "  df['diagnosis'] = encoder.fit_transform(df['diagnosis'])\n",
        "  df.drop(['id','fractal_dimension_mean','texture_se','symmetry_se','perimeter_se','area_se','area_mean','radius_mean'],axis=1,inplace=True)\n",
        "  X = df.iloc[:,1:]\n",
        "  Y = df.iloc[:,0]\n",
        "  #Y\n",
        "  col=X.columns\n",
        "  object = StandardScaler()\n",
        "  X = object.fit_transform(X)\n",
        "  X=pd.DataFrame(X,columns=col)\n",
        "  x_train, x_test, y_train, y_test = train_test_split(X, Y, test_size=0.3, random_state=42) \n",
        "  model = KNeighborsClassifier()\n",
        "  model = model.fit(x_train, y_train)\n",
        "  model.score(x_train, y_train)\n",
        "  y_pred = model.predict(x_test)\n",
        "  model.score(x_test, y_test)\n",
        "  score = accuracy_score( y_test, y_pred)\n",
        "  return score"
      ],
      "metadata": {
        "id": "TYlicSSireZs"
      },
      "execution_count": 71,
      "outputs": []
    },
    {
      "cell_type": "code",
      "execution_count": 72,
      "metadata": {
        "id": "JSar9Zg4FhXJ"
      },
      "outputs": [],
      "source": [
        "\n",
        "@anvil.server.callable\n",
        "def predictClass(texture_mean,perimeter_mean,smoothness_mean,compactness_mean,concavity_mean,concave_points_mean,symmetry_mean,radius_se,smoothness_se,compactness_se,concavity_se,concave_points_se,fractal_dimension_se,radius_worst,texture_worst,perimeter_worst,area_worst,smoothness_worst,compactness_worst,concavity_worst,concave_points_worst,symmetry_worst,fractal_dimension_worst):\n",
        "  df = pd.read_csv('breast-cancer.csv')\n",
        "  df[df.duplicated()]\n",
        "  encoder=preprocessing.LabelEncoder()\n",
        "  df['diagnosis'] = encoder.fit_transform(df['diagnosis'])\n",
        "  df.drop(['id','fractal_dimension_mean','texture_se','symmetry_se','perimeter_se','area_se','area_mean','radius_mean'],axis=1,inplace=True)\n",
        "  X = df.iloc[:,1:]\n",
        "  Y = df.iloc[:,0]\n",
        "  col=X.columns\n",
        "  object = StandardScaler()\n",
        "  X = object.fit_transform(X)\n",
        "  X=pd.DataFrame(X,columns=col)\n",
        "  x_train, x_test, y_train, y_test = train_test_split(X, Y, test_size=0.3, random_state=42) \n",
        "  model = LogisticRegression(random_state=42)\n",
        "  model = model.fit(x_train, y_train)\n",
        "  input = [[texture_mean,perimeter_mean,smoothness_mean,compactness_mean,concavity_mean,concave_points_mean,symmetry_mean,radius_se,smoothness_se,compactness_se,concavity_se,concave_points_se,fractal_dimension_se,radius_worst,texture_worst,perimeter_worst,area_worst,smoothness_worst,compactness_worst,concavity_worst,concave_points_worst,symmetry_worst,fractal_dimension_worst]]\n",
        "  output = model.predict(input)\n",
        "  return output"
      ]
    },
    {
      "cell_type": "code",
      "source": [
        "print(predictClass(-0.5945,-0.5945,-0.5945,3,6,8,99,0,3,5,6,8,5,6,9,5,3,6,9,7,5,3,4))"
      ],
      "metadata": {
        "colab": {
          "base_uri": "https://localhost:8080/"
        },
        "id": "NdCWCZ7b-Ph5",
        "outputId": "091bac92-5f11-4c8d-fc68-63cdd2bac323"
      },
      "execution_count": 73,
      "outputs": [
        {
          "output_type": "stream",
          "name": "stdout",
          "text": [
            "[1]\n"
          ]
        },
        {
          "output_type": "stream",
          "name": "stderr",
          "text": [
            "/usr/local/lib/python3.10/dist-packages/sklearn/base.py:439: UserWarning: X does not have valid feature names, but LogisticRegression was fitted with feature names\n",
            "  warnings.warn(\n"
          ]
        }
      ]
    }
  ],
  "metadata": {
    "kernelspec": {
      "display_name": "Python 3",
      "language": "python",
      "name": "python3"
    },
    "language_info": {
      "codemirror_mode": {
        "name": "ipython",
        "version": 3
      },
      "file_extension": ".py",
      "mimetype": "text/x-python",
      "name": "python",
      "nbconvert_exporter": "python",
      "pygments_lexer": "ipython3",
      "version": "3.8.5"
    },
    "colab": {
      "provenance": []
    }
  },
  "nbformat": 4,
  "nbformat_minor": 0
}